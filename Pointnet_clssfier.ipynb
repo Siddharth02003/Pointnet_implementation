{
  "nbformat": 4,
  "nbformat_minor": 0,
  "metadata": {
    "accelerator": "GPU",
    "colab": {
      "name": "Pointnet_clssfier.ipynb",
      "provenance": []
    },
    "kernelspec": {
      "display_name": "Python 3",
      "name": "python3"
    },
    "language_info": {
      "name": "python"
    }
  },
  "cells": [
    {
      "cell_type": "code",
      "metadata": {
        "id": "FwfYxGCyIBtr"
      },
      "source": [
        "url=\"http://3dvision.princeton.edu/projects/2014/3DShapeNets/ModelNet10.zip\" "
      ],
      "execution_count": null,
      "outputs": []
    },
    {
      "cell_type": "code",
      "metadata": {
        "colab": {
          "base_uri": "https://localhost:8080/"
        },
        "id": "Dw7v9SU5IrSG",
        "outputId": "10562c4f-328b-4f3b-d03f-7762724aa874"
      },
      "source": [
        "\n",
        "!pip install trimesh\n",
        "import os\n",
        "import glob\n",
        "import trimesh\n",
        "import numpy as np\n",
        "import tensorflow as tf\n",
        "from tensorflow import keras\n",
        "from tensorflow.keras import layers\n",
        "from matplotlib import pyplot as plt"
      ],
      "execution_count": null,
      "outputs": [
        {
          "output_type": "stream",
          "text": [
            "Collecting trimesh\n",
            "  Downloading trimesh-3.9.28-py3-none-any.whl (635 kB)\n",
            "\u001b[?25l\r\u001b[K     |▌                               | 10 kB 38.5 MB/s eta 0:00:01\r\u001b[K     |█                               | 20 kB 16.6 MB/s eta 0:00:01\r\u001b[K     |█▌                              | 30 kB 8.3 MB/s eta 0:00:01\r\u001b[K     |██                              | 40 kB 10.5 MB/s eta 0:00:01\r\u001b[K     |██▋                             | 51 kB 7.0 MB/s eta 0:00:01\r\u001b[K     |███                             | 61 kB 8.2 MB/s eta 0:00:01\r\u001b[K     |███▋                            | 71 kB 6.6 MB/s eta 0:00:01\r\u001b[K     |████▏                           | 81 kB 7.5 MB/s eta 0:00:01\r\u001b[K     |████▋                           | 92 kB 6.7 MB/s eta 0:00:01\r\u001b[K     |█████▏                          | 102 kB 7.3 MB/s eta 0:00:01\r\u001b[K     |█████▊                          | 112 kB 7.3 MB/s eta 0:00:01\r\u001b[K     |██████▏                         | 122 kB 7.3 MB/s eta 0:00:01\r\u001b[K     |██████▊                         | 133 kB 7.3 MB/s eta 0:00:01\r\u001b[K     |███████▏                        | 143 kB 7.3 MB/s eta 0:00:01\r\u001b[K     |███████▊                        | 153 kB 7.3 MB/s eta 0:00:01\r\u001b[K     |████████▎                       | 163 kB 7.3 MB/s eta 0:00:01\r\u001b[K     |████████▊                       | 174 kB 7.3 MB/s eta 0:00:01\r\u001b[K     |█████████▎                      | 184 kB 7.3 MB/s eta 0:00:01\r\u001b[K     |█████████▉                      | 194 kB 7.3 MB/s eta 0:00:01\r\u001b[K     |██████████▎                     | 204 kB 7.3 MB/s eta 0:00:01\r\u001b[K     |██████████▉                     | 215 kB 7.3 MB/s eta 0:00:01\r\u001b[K     |███████████▍                    | 225 kB 7.3 MB/s eta 0:00:01\r\u001b[K     |███████████▉                    | 235 kB 7.3 MB/s eta 0:00:01\r\u001b[K     |████████████▍                   | 245 kB 7.3 MB/s eta 0:00:01\r\u001b[K     |████████████▉                   | 256 kB 7.3 MB/s eta 0:00:01\r\u001b[K     |█████████████▍                  | 266 kB 7.3 MB/s eta 0:00:01\r\u001b[K     |██████████████                  | 276 kB 7.3 MB/s eta 0:00:01\r\u001b[K     |██████████████▍                 | 286 kB 7.3 MB/s eta 0:00:01\r\u001b[K     |███████████████                 | 296 kB 7.3 MB/s eta 0:00:01\r\u001b[K     |███████████████▌                | 307 kB 7.3 MB/s eta 0:00:01\r\u001b[K     |████████████████                | 317 kB 7.3 MB/s eta 0:00:01\r\u001b[K     |████████████████▌               | 327 kB 7.3 MB/s eta 0:00:01\r\u001b[K     |█████████████████               | 337 kB 7.3 MB/s eta 0:00:01\r\u001b[K     |█████████████████▌              | 348 kB 7.3 MB/s eta 0:00:01\r\u001b[K     |██████████████████              | 358 kB 7.3 MB/s eta 0:00:01\r\u001b[K     |██████████████████▋             | 368 kB 7.3 MB/s eta 0:00:01\r\u001b[K     |███████████████████             | 378 kB 7.3 MB/s eta 0:00:01\r\u001b[K     |███████████████████▋            | 389 kB 7.3 MB/s eta 0:00:01\r\u001b[K     |████████████████████            | 399 kB 7.3 MB/s eta 0:00:01\r\u001b[K     |████████████████████▋           | 409 kB 7.3 MB/s eta 0:00:01\r\u001b[K     |█████████████████████▏          | 419 kB 7.3 MB/s eta 0:00:01\r\u001b[K     |█████████████████████▋          | 430 kB 7.3 MB/s eta 0:00:01\r\u001b[K     |██████████████████████▏         | 440 kB 7.3 MB/s eta 0:00:01\r\u001b[K     |██████████████████████▊         | 450 kB 7.3 MB/s eta 0:00:01\r\u001b[K     |███████████████████████▏        | 460 kB 7.3 MB/s eta 0:00:01\r\u001b[K     |███████████████████████▊        | 471 kB 7.3 MB/s eta 0:00:01\r\u001b[K     |████████████████████████▎       | 481 kB 7.3 MB/s eta 0:00:01\r\u001b[K     |████████████████████████▊       | 491 kB 7.3 MB/s eta 0:00:01\r\u001b[K     |█████████████████████████▎      | 501 kB 7.3 MB/s eta 0:00:01\r\u001b[K     |█████████████████████████▊      | 512 kB 7.3 MB/s eta 0:00:01\r\u001b[K     |██████████████████████████▎     | 522 kB 7.3 MB/s eta 0:00:01\r\u001b[K     |██████████████████████████▉     | 532 kB 7.3 MB/s eta 0:00:01\r\u001b[K     |███████████████████████████▎    | 542 kB 7.3 MB/s eta 0:00:01\r\u001b[K     |███████████████████████████▉    | 552 kB 7.3 MB/s eta 0:00:01\r\u001b[K     |████████████████████████████▍   | 563 kB 7.3 MB/s eta 0:00:01\r\u001b[K     |████████████████████████████▉   | 573 kB 7.3 MB/s eta 0:00:01\r\u001b[K     |█████████████████████████████▍  | 583 kB 7.3 MB/s eta 0:00:01\r\u001b[K     |██████████████████████████████  | 593 kB 7.3 MB/s eta 0:00:01\r\u001b[K     |██████████████████████████████▍ | 604 kB 7.3 MB/s eta 0:00:01\r\u001b[K     |███████████████████████████████ | 614 kB 7.3 MB/s eta 0:00:01\r\u001b[K     |███████████████████████████████▌| 624 kB 7.3 MB/s eta 0:00:01\r\u001b[K     |████████████████████████████████| 634 kB 7.3 MB/s eta 0:00:01\r\u001b[K     |████████████████████████████████| 635 kB 7.3 MB/s \n",
            "\u001b[?25hRequirement already satisfied: setuptools in /usr/local/lib/python3.7/dist-packages (from trimesh) (57.4.0)\n",
            "Requirement already satisfied: numpy in /usr/local/lib/python3.7/dist-packages (from trimesh) (1.19.5)\n",
            "Installing collected packages: trimesh\n",
            "Successfully installed trimesh-3.9.28\n"
          ],
          "name": "stdout"
        }
      ]
    },
    {
      "cell_type": "markdown",
      "metadata": {
        "id": "HCaeTqPY9Jie"
      },
      "source": [
        "##Loading Data"
      ]
    },
    {
      "cell_type": "code",
      "metadata": {
        "id": "Dappy5LCI5yV",
        "colab": {
          "base_uri": "https://localhost:8080/"
        },
        "outputId": "07ae99a0-d1aa-440e-b3af-1154c2c88422"
      },
      "source": [
        "data=tf.keras.utils.get_file(\"modelnet.zip\",url,extract=True)\n",
        "DATA_DIR = os.path.join(os.path.dirname(data), \"ModelNet10\")"
      ],
      "execution_count": null,
      "outputs": [
        {
          "output_type": "stream",
          "text": [
            "Downloading data from http://3dvision.princeton.edu/projects/2014/3DShapeNets/ModelNet10.zip\n",
            "473407488/473402300 [==============================] - 11s 0us/step\n",
            "473415680/473402300 [==============================] - 11s 0us/step\n"
          ],
          "name": "stdout"
        }
      ]
    },
    {
      "cell_type": "code",
      "metadata": {
        "id": "75JHfcce67PA"
      },
      "source": [
        "\n",
        "def parse_dataset(num_points=2048):\n",
        "\n",
        "    train_points = []\n",
        "    train_labels = []\n",
        "    test_points = []\n",
        "    test_labels = []\n",
        "    class_map = {}\n",
        "    folders = glob.glob(os.path.join(DATA_DIR, \"[!README]*\"))\n",
        "\n",
        "    for i, folder in enumerate(folders):\n",
        "        print(\"processing class: {}\".format(os.path.basename(folder)))\n",
        "        # store folder name with ID so we can retrieve later\n",
        "        class_map[i] = folder.split(\"/\")[-1]\n",
        "        # gather all files\n",
        "        train_files = glob.glob(os.path.join(folder, \"train/*\"))\n",
        "        test_files = glob.glob(os.path.join(folder, \"test/*\"))\n",
        "\n",
        "        for f in train_files:\n",
        "            train_points.append(trimesh.load(f).sample(num_points))\n",
        "            train_labels.append(i)\n",
        "\n",
        "        for f in test_files:\n",
        "            test_points.append(trimesh.load(f).sample(num_points))\n",
        "            test_labels.append(i)\n",
        "\n",
        "    return (\n",
        "        np.array(train_points),\n",
        "        np.array(test_points),\n",
        "        np.array(train_labels),\n",
        "        np.array(test_labels),\n",
        "        class_map,\n",
        "    )"
      ],
      "execution_count": null,
      "outputs": []
    },
    {
      "cell_type": "code",
      "metadata": {
        "id": "KcSLMgoi88vx"
      },
      "source": [
        "Batch=32\n",
        "num_p=2048"
      ],
      "execution_count": null,
      "outputs": []
    },
    {
      "cell_type": "code",
      "metadata": {
        "id": "6r5TrE4968GY",
        "colab": {
          "base_uri": "https://localhost:8080/"
        },
        "outputId": "1efc2f63-bbea-41b4-fcfb-bd928a50e994"
      },
      "source": [
        "train_points, test_points, train_labels, test_labels, CLASS_MAP = parse_dataset(num_p)"
      ],
      "execution_count": null,
      "outputs": [
        {
          "output_type": "stream",
          "text": [
            "processing class: desk\n",
            "processing class: night_stand\n",
            "processing class: chair\n",
            "processing class: bathtub\n",
            "processing class: monitor\n",
            "processing class: toilet\n",
            "processing class: table\n",
            "processing class: sofa\n",
            "processing class: dresser\n",
            "processing class: bed\n"
          ],
          "name": "stdout"
        }
      ]
    },
    {
      "cell_type": "code",
      "metadata": {
        "colab": {
          "base_uri": "https://localhost:8080/"
        },
        "id": "clLyvt5awHm4",
        "outputId": "62e002ff-531f-42eb-b353-ea4d34c69c60"
      },
      "source": [
        "print(CLASS_MAP)"
      ],
      "execution_count": null,
      "outputs": [
        {
          "output_type": "stream",
          "text": [
            "{0: 'desk', 1: 'night_stand', 2: 'chair', 3: 'bathtub', 4: 'monitor', 5: 'toilet', 6: 'table', 7: 'sofa', 8: 'dresser', 9: 'bed'}\n"
          ],
          "name": "stdout"
        }
      ]
    },
    {
      "cell_type": "code",
      "metadata": {
        "id": "Mkmqp25-wela"
      },
      "source": [
        ""
      ],
      "execution_count": null,
      "outputs": []
    },
    {
      "cell_type": "code",
      "metadata": {
        "id": "v7809SvtFW2w"
      },
      "source": [
        "train_dataset = tf.data.Dataset.from_tensor_slices((train_points, train_labels))\n",
        "test_dataset = tf.data.Dataset.from_tensor_slices((test_points, test_labels))\n",
        "\n",
        "\n",
        "train_dataset=train_dataset.shuffle(len(train_points))\n",
        "train_dataset=train_dataset.batch(Batch)\n",
        "test_dataset=test_dataset.shuffle(len(test_points))\n",
        "test_dataset=test_dataset.batch(Batch)"
      ],
      "execution_count": null,
      "outputs": []
    },
    {
      "cell_type": "code",
      "metadata": {
        "colab": {
          "base_uri": "https://localhost:8080/"
        },
        "id": "saXi62vzEawX",
        "outputId": "99cfeb7a-7342-4d6f-b648-7a1b7b0d0b29"
      },
      "source": [
        "np.shape(train_dataset)"
      ],
      "execution_count": null,
      "outputs": [
        {
          "output_type": "execute_result",
          "data": {
            "text/plain": [
              "()"
            ]
          },
          "metadata": {
            "tags": []
          },
          "execution_count": 8
        }
      ]
    },
    {
      "cell_type": "markdown",
      "metadata": {
        "id": "F3q8zqzq9CFt"
      },
      "source": [
        "##Building the Model"
      ]
    },
    {
      "cell_type": "code",
      "metadata": {
        "id": "x8yidcij8-Oe"
      },
      "source": [
        "def conv_bn(x, filters):\n",
        "    x = layers.Conv1D(filters, kernel_size=1, padding=\"valid\")(x)\n",
        "    x = layers.BatchNormalization(momentum=0.0)(x)\n",
        "    return layers.Activation(\"relu\")(x)\n",
        "\n",
        "\n",
        "def dense_bn(x, filters):\n",
        "    x = layers.Dense(filters)(x)\n",
        "    x = layers.BatchNormalization(momentum=0.0)(x)\n",
        "    return layers.Activation(\"relu\")(x)"
      ],
      "execution_count": null,
      "outputs": []
    },
    {
      "cell_type": "code",
      "metadata": {
        "id": "tFQVezbNkfFt"
      },
      "source": [
        "class ortho_reg(keras.regularizers.Regularizer):\n",
        "  def __init__(self, num_feat, l2_reg=0.001):\n",
        "    self.num_feat=num_feat\n",
        "    self.l2_reg=l2_reg\n",
        "    self.eye=tf.eye(num_feat)\n",
        "    \n",
        "  def __call__(self,x):\n",
        "    x = tf.reshape(x, (-1, self.num_feat, self.num_feat))\n",
        "    xxt = tf.tensordot(x, x, axes=(2, 2))\n",
        "    xxt = tf.reshape(xxt, (-1, self.num_feat, self.num_feat))\n",
        "    return tf.reduce_sum(self.l2_reg * tf.square(xxt - self.eye))  "
      ],
      "execution_count": null,
      "outputs": []
    },
    {
      "cell_type": "code",
      "metadata": {
        "id": "N8YMr5WDG4dl"
      },
      "source": [
        "lr=0.001/4"
      ],
      "execution_count": null,
      "outputs": []
    },
    {
      "cell_type": "code",
      "metadata": {
        "id": "0iOazST7BGTA"
      },
      "source": [
        "\n",
        "def tnet(inputs, num_features):\n",
        "\n",
        "    # Initalise bias as the indentity matrix\n",
        "    bias = keras.initializers.Constant(np.eye(num_features).flatten())\n",
        "    reg = ortho_reg(num_features)\n",
        "\n",
        "    x = conv_bn(inputs, 64)\n",
        "    x = conv_bn(x, 128)\n",
        "    x = conv_bn(x, 1024)\n",
        "    x = layers.GlobalMaxPooling1D()(x)\n",
        "    x = dense_bn(x, 512)\n",
        "    x = dense_bn(x, 256)\n",
        "    x = layers.Dense(\n",
        "        num_features * num_features,\n",
        "        kernel_initializer=\"zeros\",\n",
        "        bias_initializer=bias,\n",
        "        activity_regularizer=reg,\n",
        "    )(x)\n",
        "    feat_T = layers.Reshape((num_features, num_features))(x)\n",
        "    # Apply affine transformation to input features\n",
        "    return layers.Dot(axes=(2, 1))([inputs, feat_T])"
      ],
      "execution_count": null,
      "outputs": []
    },
    {
      "cell_type": "code",
      "metadata": {
        "id": "9zWs6nLABRBY"
      },
      "source": [
        "def pointnet():\n",
        "\n",
        "  inputs = keras.Input(shape=(num_p, 3))\n",
        "  x = tnet(inputs, 3)\n",
        "  x = conv_bn(x, 64)\n",
        "  x = conv_bn(x, 64)\n",
        "  x = tnet(x, 64)\n",
        "  x = conv_bn(x, 64)\n",
        "  x = conv_bn(x, 128)\n",
        "  x = conv_bn(x, 1024)\n",
        "  x = layers.GlobalMaxPooling1D()(x)\n",
        "  x = dense_bn(x, 512)\n",
        "  x = layers.Dropout(0.3)(x)\n",
        "  x = dense_bn(x, 256)\n",
        "  x = layers.Dropout(0.3)(x)\n",
        "  outputs = layers.Dense(10, activation=\"softmax\")(x)\n",
        "  model = keras.Model(inputs=inputs, outputs=outputs, name=\"pointnet\")\n",
        "  model.compile(\n",
        "    loss=\"sparse_categorical_crossentropy\",\n",
        "    optimizer=keras.optimizers.Adam(learning_rate=lr),\n",
        "    metrics=[\"sparse_categorical_accuracy\"])\n",
        "  return (model,model.summary())\n"
      ],
      "execution_count": null,
      "outputs": []
    },
    {
      "cell_type": "code",
      "metadata": {
        "id": "1B4PehfM3kZp"
      },
      "source": [
        ""
      ],
      "execution_count": null,
      "outputs": []
    },
    {
      "cell_type": "code",
      "metadata": {
        "colab": {
          "base_uri": "https://localhost:8080/"
        },
        "id": "0xdUugr8DAZO",
        "outputId": "870a9ecf-ffa4-49dc-f64a-dcc87c3a70a3"
      },
      "source": [
        "model,sum=pointnet()"
      ],
      "execution_count": null,
      "outputs": [
        {
          "output_type": "stream",
          "text": [
            "Model: \"pointnet\"\n",
            "__________________________________________________________________________________________________\n",
            "Layer (type)                    Output Shape         Param #     Connected to                     \n",
            "==================================================================================================\n",
            "input_4 (InputLayer)            [(None, 2048, 3)]    0                                            \n",
            "__________________________________________________________________________________________________\n",
            "conv1d_33 (Conv1D)              (None, 2048, 64)     256         input_4[0][0]                    \n",
            "__________________________________________________________________________________________________\n",
            "batch_normalization_51 (BatchNo (None, 2048, 64)     256         conv1d_33[0][0]                  \n",
            "__________________________________________________________________________________________________\n",
            "activation_51 (Activation)      (None, 2048, 64)     0           batch_normalization_51[0][0]     \n",
            "__________________________________________________________________________________________________\n",
            "conv1d_34 (Conv1D)              (None, 2048, 128)    8320        activation_51[0][0]              \n",
            "__________________________________________________________________________________________________\n",
            "batch_normalization_52 (BatchNo (None, 2048, 128)    512         conv1d_34[0][0]                  \n",
            "__________________________________________________________________________________________________\n",
            "activation_52 (Activation)      (None, 2048, 128)    0           batch_normalization_52[0][0]     \n",
            "__________________________________________________________________________________________________\n",
            "conv1d_35 (Conv1D)              (None, 2048, 1024)   132096      activation_52[0][0]              \n",
            "__________________________________________________________________________________________________\n",
            "batch_normalization_53 (BatchNo (None, 2048, 1024)   4096        conv1d_35[0][0]                  \n",
            "__________________________________________________________________________________________________\n",
            "activation_53 (Activation)      (None, 2048, 1024)   0           batch_normalization_53[0][0]     \n",
            "__________________________________________________________________________________________________\n",
            "global_max_pooling1d_9 (GlobalM (None, 1024)         0           activation_53[0][0]              \n",
            "__________________________________________________________________________________________________\n",
            "dense_27 (Dense)                (None, 512)          524800      global_max_pooling1d_9[0][0]     \n",
            "__________________________________________________________________________________________________\n",
            "batch_normalization_54 (BatchNo (None, 512)          2048        dense_27[0][0]                   \n",
            "__________________________________________________________________________________________________\n",
            "activation_54 (Activation)      (None, 512)          0           batch_normalization_54[0][0]     \n",
            "__________________________________________________________________________________________________\n",
            "dense_28 (Dense)                (None, 256)          131328      activation_54[0][0]              \n",
            "__________________________________________________________________________________________________\n",
            "batch_normalization_55 (BatchNo (None, 256)          1024        dense_28[0][0]                   \n",
            "__________________________________________________________________________________________________\n",
            "activation_55 (Activation)      (None, 256)          0           batch_normalization_55[0][0]     \n",
            "__________________________________________________________________________________________________\n",
            "dense_29 (Dense)                (None, 9)            2313        activation_55[0][0]              \n",
            "__________________________________________________________________________________________________\n",
            "reshape_6 (Reshape)             (None, 3, 3)         0           dense_29[0][0]                   \n",
            "__________________________________________________________________________________________________\n",
            "dot_6 (Dot)                     (None, 2048, 3)      0           input_4[0][0]                    \n",
            "                                                                 reshape_6[0][0]                  \n",
            "__________________________________________________________________________________________________\n",
            "conv1d_36 (Conv1D)              (None, 2048, 64)     256         dot_6[0][0]                      \n",
            "__________________________________________________________________________________________________\n",
            "batch_normalization_56 (BatchNo (None, 2048, 64)     256         conv1d_36[0][0]                  \n",
            "__________________________________________________________________________________________________\n",
            "activation_56 (Activation)      (None, 2048, 64)     0           batch_normalization_56[0][0]     \n",
            "__________________________________________________________________________________________________\n",
            "conv1d_37 (Conv1D)              (None, 2048, 64)     4160        activation_56[0][0]              \n",
            "__________________________________________________________________________________________________\n",
            "batch_normalization_57 (BatchNo (None, 2048, 64)     256         conv1d_37[0][0]                  \n",
            "__________________________________________________________________________________________________\n",
            "activation_57 (Activation)      (None, 2048, 64)     0           batch_normalization_57[0][0]     \n",
            "__________________________________________________________________________________________________\n",
            "conv1d_38 (Conv1D)              (None, 2048, 64)     4160        activation_57[0][0]              \n",
            "__________________________________________________________________________________________________\n",
            "batch_normalization_58 (BatchNo (None, 2048, 64)     256         conv1d_38[0][0]                  \n",
            "__________________________________________________________________________________________________\n",
            "activation_58 (Activation)      (None, 2048, 64)     0           batch_normalization_58[0][0]     \n",
            "__________________________________________________________________________________________________\n",
            "conv1d_39 (Conv1D)              (None, 2048, 128)    8320        activation_58[0][0]              \n",
            "__________________________________________________________________________________________________\n",
            "batch_normalization_59 (BatchNo (None, 2048, 128)    512         conv1d_39[0][0]                  \n",
            "__________________________________________________________________________________________________\n",
            "activation_59 (Activation)      (None, 2048, 128)    0           batch_normalization_59[0][0]     \n",
            "__________________________________________________________________________________________________\n",
            "conv1d_40 (Conv1D)              (None, 2048, 1024)   132096      activation_59[0][0]              \n",
            "__________________________________________________________________________________________________\n",
            "batch_normalization_60 (BatchNo (None, 2048, 1024)   4096        conv1d_40[0][0]                  \n",
            "__________________________________________________________________________________________________\n",
            "activation_60 (Activation)      (None, 2048, 1024)   0           batch_normalization_60[0][0]     \n",
            "__________________________________________________________________________________________________\n",
            "global_max_pooling1d_10 (Global (None, 1024)         0           activation_60[0][0]              \n",
            "__________________________________________________________________________________________________\n",
            "dense_30 (Dense)                (None, 512)          524800      global_max_pooling1d_10[0][0]    \n",
            "__________________________________________________________________________________________________\n",
            "batch_normalization_61 (BatchNo (None, 512)          2048        dense_30[0][0]                   \n",
            "__________________________________________________________________________________________________\n",
            "activation_61 (Activation)      (None, 512)          0           batch_normalization_61[0][0]     \n",
            "__________________________________________________________________________________________________\n",
            "dense_31 (Dense)                (None, 256)          131328      activation_61[0][0]              \n",
            "__________________________________________________________________________________________________\n",
            "batch_normalization_62 (BatchNo (None, 256)          1024        dense_31[0][0]                   \n",
            "__________________________________________________________________________________________________\n",
            "activation_62 (Activation)      (None, 256)          0           batch_normalization_62[0][0]     \n",
            "__________________________________________________________________________________________________\n",
            "dense_32 (Dense)                (None, 4096)         1052672     activation_62[0][0]              \n",
            "__________________________________________________________________________________________________\n",
            "reshape_7 (Reshape)             (None, 64, 64)       0           dense_32[0][0]                   \n",
            "__________________________________________________________________________________________________\n",
            "dot_7 (Dot)                     (None, 2048, 64)     0           activation_57[0][0]              \n",
            "                                                                 reshape_7[0][0]                  \n",
            "__________________________________________________________________________________________________\n",
            "conv1d_41 (Conv1D)              (None, 2048, 64)     4160        dot_7[0][0]                      \n",
            "__________________________________________________________________________________________________\n",
            "batch_normalization_63 (BatchNo (None, 2048, 64)     256         conv1d_41[0][0]                  \n",
            "__________________________________________________________________________________________________\n",
            "activation_63 (Activation)      (None, 2048, 64)     0           batch_normalization_63[0][0]     \n",
            "__________________________________________________________________________________________________\n",
            "conv1d_42 (Conv1D)              (None, 2048, 128)    8320        activation_63[0][0]              \n",
            "__________________________________________________________________________________________________\n",
            "batch_normalization_64 (BatchNo (None, 2048, 128)    512         conv1d_42[0][0]                  \n",
            "__________________________________________________________________________________________________\n",
            "activation_64 (Activation)      (None, 2048, 128)    0           batch_normalization_64[0][0]     \n",
            "__________________________________________________________________________________________________\n",
            "conv1d_43 (Conv1D)              (None, 2048, 1024)   132096      activation_64[0][0]              \n",
            "__________________________________________________________________________________________________\n",
            "batch_normalization_65 (BatchNo (None, 2048, 1024)   4096        conv1d_43[0][0]                  \n",
            "__________________________________________________________________________________________________\n",
            "activation_65 (Activation)      (None, 2048, 1024)   0           batch_normalization_65[0][0]     \n",
            "__________________________________________________________________________________________________\n",
            "global_max_pooling1d_11 (Global (None, 1024)         0           activation_65[0][0]              \n",
            "__________________________________________________________________________________________________\n",
            "dense_33 (Dense)                (None, 512)          524800      global_max_pooling1d_11[0][0]    \n",
            "__________________________________________________________________________________________________\n",
            "batch_normalization_66 (BatchNo (None, 512)          2048        dense_33[0][0]                   \n",
            "__________________________________________________________________________________________________\n",
            "activation_66 (Activation)      (None, 512)          0           batch_normalization_66[0][0]     \n",
            "__________________________________________________________________________________________________\n",
            "dropout_6 (Dropout)             (None, 512)          0           activation_66[0][0]              \n",
            "__________________________________________________________________________________________________\n",
            "dense_34 (Dense)                (None, 256)          131328      dropout_6[0][0]                  \n",
            "__________________________________________________________________________________________________\n",
            "batch_normalization_67 (BatchNo (None, 256)          1024        dense_34[0][0]                   \n",
            "__________________________________________________________________________________________________\n",
            "activation_67 (Activation)      (None, 256)          0           batch_normalization_67[0][0]     \n",
            "__________________________________________________________________________________________________\n",
            "dropout_7 (Dropout)             (None, 256)          0           activation_67[0][0]              \n",
            "__________________________________________________________________________________________________\n",
            "dense_35 (Dense)                (None, 10)           2570        dropout_7[0][0]                  \n",
            "==================================================================================================\n",
            "Total params: 3,484,499\n",
            "Trainable params: 3,472,339\n",
            "Non-trainable params: 12,160\n",
            "__________________________________________________________________________________________________\n"
          ],
          "name": "stdout"
        }
      ]
    },
    {
      "cell_type": "code",
      "metadata": {
        "colab": {
          "base_uri": "https://localhost:8080/"
        },
        "id": "2_A1yHkYEwdk",
        "outputId": "4d468151-2cb8-434a-d6e9-45f27d60ea88"
      },
      "source": [
        "model.load_weights(checkpoint_path)"
      ],
      "execution_count": null,
      "outputs": [
        {
          "output_type": "execute_result",
          "data": {
            "text/plain": [
              "<tensorflow.python.training.tracking.util.CheckpointLoadStatus at 0x7f7e12e9d610>"
            ]
          },
          "metadata": {
            "tags": []
          },
          "execution_count": 30
        }
      ]
    },
    {
      "cell_type": "code",
      "metadata": {
        "id": "X8ZXlvcaDNYM"
      },
      "source": [
        "checkpoint_path = \"training_3/cp.ckpt\"\n",
        "checkpoint_dir = os.path.dirname(checkpoint_path)\n",
        "cp_callback = tf.keras.callbacks.ModelCheckpoint(filepath=checkpoint_path,\n",
        "                                                 save_weights_only=True,\n",
        "                                                 verbose=1)"
      ],
      "execution_count": null,
      "outputs": []
    },
    {
      "cell_type": "code",
      "metadata": {
        "colab": {
          "base_uri": "https://localhost:8080/"
        },
        "id": "18cx6QHr3Wlp",
        "outputId": "716e16f9-d1c4-47e6-add2-cf9d3cd592ae"
      },
      "source": [
        "\n",
        "\n",
        "model.fit(train_dataset, epochs=20, validation_data=test_dataset,callbacks=[cp_callback])"
      ],
      "execution_count": null,
      "outputs": [
        {
          "output_type": "stream",
          "text": [
            "Epoch 1/20\n",
            "125/125 [==============================] - 45s 327ms/step - loss: 2.4509 - sparse_categorical_accuracy: 0.8837 - val_loss: 12920972466460819456.0000 - val_sparse_categorical_accuracy: 0.8051\n",
            "\n",
            "Epoch 00001: saving model to training_3/cp.ckpt\n",
            "Epoch 2/20\n",
            "125/125 [==============================] - 40s 321ms/step - loss: 2.4577 - sparse_categorical_accuracy: 0.8735 - val_loss: 66479923920896.0000 - val_sparse_categorical_accuracy: 0.8128\n",
            "\n",
            "Epoch 00002: saving model to training_3/cp.ckpt\n",
            "Epoch 3/20\n",
            "125/125 [==============================] - 40s 321ms/step - loss: 2.4806 - sparse_categorical_accuracy: 0.8757 - val_loss: 1514803691520.0000 - val_sparse_categorical_accuracy: 0.8150\n",
            "\n",
            "Epoch 00003: saving model to training_3/cp.ckpt\n",
            "Epoch 4/20\n",
            "125/125 [==============================] - 40s 321ms/step - loss: 2.4487 - sparse_categorical_accuracy: 0.8770 - val_loss: 4749560320.0000 - val_sparse_categorical_accuracy: 0.8524\n",
            "\n",
            "Epoch 00004: saving model to training_3/cp.ckpt\n",
            "Epoch 5/20\n",
            "125/125 [==============================] - 40s 321ms/step - loss: 2.4459 - sparse_categorical_accuracy: 0.8792 - val_loss: 16244861304832.0000 - val_sparse_categorical_accuracy: 0.8535\n",
            "\n",
            "Epoch 00005: saving model to training_3/cp.ckpt\n",
            "Epoch 6/20\n",
            "125/125 [==============================] - 40s 321ms/step - loss: 2.4589 - sparse_categorical_accuracy: 0.8800 - val_loss: 58007449600.0000 - val_sparse_categorical_accuracy: 0.8612\n",
            "\n",
            "Epoch 00006: saving model to training_3/cp.ckpt\n",
            "Epoch 7/20\n",
            "125/125 [==============================] - 40s 321ms/step - loss: 2.4285 - sparse_categorical_accuracy: 0.8832 - val_loss: 1947414944546816.0000 - val_sparse_categorical_accuracy: 0.8216\n",
            "\n",
            "Epoch 00007: saving model to training_3/cp.ckpt\n",
            "Epoch 8/20\n",
            "125/125 [==============================] - 40s 320ms/step - loss: 2.4582 - sparse_categorical_accuracy: 0.8722 - val_loss: 9.2936 - val_sparse_categorical_accuracy: 0.1509\n",
            "\n",
            "Epoch 00008: saving model to training_3/cp.ckpt\n",
            "Epoch 9/20\n",
            "125/125 [==============================] - 40s 320ms/step - loss: 2.4485 - sparse_categorical_accuracy: 0.8832 - val_loss: 460398944.0000 - val_sparse_categorical_accuracy: 0.8502\n",
            "\n",
            "Epoch 00009: saving model to training_3/cp.ckpt\n",
            "Epoch 10/20\n",
            "125/125 [==============================] - 40s 321ms/step - loss: 2.4068 - sparse_categorical_accuracy: 0.8955 - val_loss: 113089658880.0000 - val_sparse_categorical_accuracy: 0.8491\n",
            "\n",
            "Epoch 00010: saving model to training_3/cp.ckpt\n",
            "Epoch 11/20\n",
            "125/125 [==============================] - 40s 321ms/step - loss: 2.5486 - sparse_categorical_accuracy: 0.8649 - val_loss: 288438964872053035892736.0000 - val_sparse_categorical_accuracy: 0.7731\n",
            "\n",
            "Epoch 00011: saving model to training_3/cp.ckpt\n",
            "Epoch 12/20\n",
            "125/125 [==============================] - 40s 321ms/step - loss: 2.4082 - sparse_categorical_accuracy: 0.8910 - val_loss: 179506233166337671168.0000 - val_sparse_categorical_accuracy: 0.7588\n",
            "\n",
            "Epoch 00012: saving model to training_3/cp.ckpt\n",
            "Epoch 13/20\n",
            "125/125 [==============================] - 40s 321ms/step - loss: 2.4258 - sparse_categorical_accuracy: 0.8900 - val_loss: 62917.0312 - val_sparse_categorical_accuracy: 0.8877\n",
            "\n",
            "Epoch 00013: saving model to training_3/cp.ckpt\n",
            "Epoch 14/20\n",
            "125/125 [==============================] - 40s 321ms/step - loss: 2.6472 - sparse_categorical_accuracy: 0.8492 - val_loss: 9116.3740 - val_sparse_categorical_accuracy: 0.7963\n",
            "\n",
            "Epoch 00014: saving model to training_3/cp.ckpt\n",
            "Epoch 15/20\n",
            "125/125 [==============================] - 40s 321ms/step - loss: 2.5603 - sparse_categorical_accuracy: 0.8522 - val_loss: 5035795456.0000 - val_sparse_categorical_accuracy: 0.8767\n",
            "\n",
            "Epoch 00015: saving model to training_3/cp.ckpt\n",
            "Epoch 16/20\n",
            "125/125 [==============================] - 40s 320ms/step - loss: 2.4232 - sparse_categorical_accuracy: 0.8887 - val_loss: 227480896012288.0000 - val_sparse_categorical_accuracy: 0.8535\n",
            "\n",
            "Epoch 00016: saving model to training_3/cp.ckpt\n",
            "Epoch 17/20\n",
            "125/125 [==============================] - 40s 321ms/step - loss: 2.3868 - sparse_categorical_accuracy: 0.8988 - val_loss: 20780168.0000 - val_sparse_categorical_accuracy: 0.8623\n",
            "\n",
            "Epoch 00017: saving model to training_3/cp.ckpt\n",
            "Epoch 18/20\n",
            "125/125 [==============================] - 40s 321ms/step - loss: 2.4016 - sparse_categorical_accuracy: 0.8923 - val_loss: 168153808109568.0000 - val_sparse_categorical_accuracy: 0.8425\n",
            "\n",
            "Epoch 00018: saving model to training_3/cp.ckpt\n",
            "Epoch 19/20\n",
            "125/125 [==============================] - 40s 321ms/step - loss: 2.3778 - sparse_categorical_accuracy: 0.9030 - val_loss: 880467072.0000 - val_sparse_categorical_accuracy: 0.8711\n",
            "\n",
            "Epoch 00019: saving model to training_3/cp.ckpt\n",
            "Epoch 20/20\n",
            "125/125 [==============================] - 40s 321ms/step - loss: 2.3636 - sparse_categorical_accuracy: 0.9050 - val_loss: 222118133760.0000 - val_sparse_categorical_accuracy: 0.8172\n",
            "\n",
            "Epoch 00020: saving model to training_3/cp.ckpt\n"
          ],
          "name": "stdout"
        },
        {
          "output_type": "execute_result",
          "data": {
            "text/plain": [
              "<tensorflow.python.keras.callbacks.History at 0x7f7e1305cc10>"
            ]
          },
          "metadata": {
            "tags": []
          },
          "execution_count": 32
        }
      ]
    },
    {
      "cell_type": "code",
      "metadata": {
        "id": "ANiVC4JmgVBl"
      },
      "source": [
        "def part_seg():\n",
        "  inputs = keras.Input(shape=(num_p, 3))\n",
        "  x = tnet(inputs, 3)\n",
        "  x = conv_bn(x, 64)\n",
        "  out1=x\n",
        "  x = conv_bn(x, 128)\n",
        "  out2=\n",
        "  x = conv_bn(x, 128)\n",
        "  out3=x\n",
        "  x=tnet(x,128)\n",
        "  out4=x\n",
        "  x = conv_bn(x, 512)\n",
        "  out5=x\n",
        "  x = conv_bn(x, 2048)\n",
        "  x = layers.GlobalMaxPooling1D()(x)\n",
        "  ex=tf.concat([out1,out2,out3,out4,ou5,x,one_hot],axis=3)\n",
        "    \n",
        "\n"
      ],
      "execution_count": null,
      "outputs": []
    }
  ]
}